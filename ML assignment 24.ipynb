{
 "cells": [
  {
   "cell_type": "raw",
   "id": "2ad344ca",
   "metadata": {},
   "source": [
    "1. What is your definition of clustering? What are a few clustering algorithms you might think of?"
   ]
  },
  {
   "cell_type": "raw",
   "id": "2d9dd666",
   "metadata": {},
   "source": [
    "ans:\n",
    "Clustering is the task of dividing the population or data points into a number of groups such that data points in the same groups are more similar to other data points in the same group and dissimilar to the data points in other groups."
   ]
  },
  {
   "cell_type": "code",
   "execution_count": null,
   "id": "79317c1b",
   "metadata": {},
   "outputs": [],
   "source": []
  },
  {
   "cell_type": "code",
   "execution_count": null,
   "id": "136023fd",
   "metadata": {},
   "outputs": [],
   "source": []
  },
  {
   "cell_type": "raw",
   "id": "358038c8",
   "metadata": {},
   "source": [
    "2. What are some of the most popular clustering algorithm applications?"
   ]
  },
  {
   "cell_type": "raw",
   "id": "be5d83e3",
   "metadata": {},
   "source": [
    "ans:\n",
    "K-means clustering is the most commonly used clustering algorithm. It's a centroid-based algorithm and the simplest unsupervised learning algorithm. This algorithm tries to minimize the variance of data points within a cluster. It's also how most people are introduced to unsupervised machine learning."
   ]
  },
  {
   "cell_type": "code",
   "execution_count": null,
   "id": "9c495b4c",
   "metadata": {},
   "outputs": [],
   "source": []
  },
  {
   "cell_type": "code",
   "execution_count": null,
   "id": "2e43c651",
   "metadata": {},
   "outputs": [],
   "source": []
  },
  {
   "cell_type": "raw",
   "id": "cb389e3d",
   "metadata": {},
   "source": [
    "3. When using K-Means, describe two strategies for selecting the appropriate number of clusters."
   ]
  },
  {
   "cell_type": "raw",
   "id": "a0db27f6",
   "metadata": {},
   "source": [
    "ans:\n",
    "K-means clustering algorithm can be significantly improved by using a better initialization technique, and by repeating (re-starting) the algorithm. When the data has overlapping clusters, k-means can improve the results of the initialization technique."
   ]
  },
  {
   "cell_type": "code",
   "execution_count": null,
   "id": "bb3f804c",
   "metadata": {},
   "outputs": [],
   "source": []
  },
  {
   "cell_type": "code",
   "execution_count": null,
   "id": "caf494cc",
   "metadata": {},
   "outputs": [],
   "source": []
  },
  {
   "cell_type": "raw",
   "id": "0d1d21c7",
   "metadata": {},
   "source": [
    "4. What is mark propagation and how does it work? Why would you do it, and how would you do it?"
   ]
  },
  {
   "cell_type": "raw",
   "id": "9ccaaaf2",
   "metadata": {},
   "source": [
    "ans:\n",
    "Backpropagation (backward propagation) is an important mathematical tool for improving the accuracy of predictions in data mining and machine learning. Essentially, backpropagation is an algorithm used to calculate derivatives quickly.\n",
    "\n",
    "The backpropagation algorithm works by computing the gradient of the loss function with respect to each weight by the chain rule, computing the gradient one layer at a time, iterating backward from the last layer to avoid redundant calculations of intermediate terms in the chain rule."
   ]
  },
  {
   "cell_type": "code",
   "execution_count": null,
   "id": "167c143e",
   "metadata": {},
   "outputs": [],
   "source": []
  },
  {
   "cell_type": "code",
   "execution_count": null,
   "id": "fcbf0d06",
   "metadata": {},
   "outputs": [],
   "source": []
  },
  {
   "cell_type": "raw",
   "id": "8c8d1f77",
   "metadata": {},
   "source": [
    "5. Provide two examples of clustering algorithms that can handle large datasets. And two that look\n",
    "for high-density areas?"
   ]
  },
  {
   "cell_type": "raw",
   "id": "b84b460c",
   "metadata": {},
   "source": [
    "ans:\n",
    "The most commonly used algorithm in clustering are partitioning, hierarchical, grid based, density based, and model based algorithms. A review of clustering and its different techniques in data mining is done considering the criteria's for big data."
   ]
  },
  {
   "cell_type": "code",
   "execution_count": null,
   "id": "6fcd349b",
   "metadata": {},
   "outputs": [],
   "source": []
  },
  {
   "cell_type": "code",
   "execution_count": null,
   "id": "d17ae268",
   "metadata": {},
   "outputs": [],
   "source": []
  },
  {
   "cell_type": "raw",
   "id": "f1e71e17",
   "metadata": {},
   "source": [
    "6. Can you think of a scenario in which constructive learning will be advantageous? How can you go\n",
    "about putting it into action?"
   ]
  },
  {
   "cell_type": "raw",
   "id": "f60bf925",
   "metadata": {},
   "source": [
    "ans:\n",
    "In Constructivist learning, the traditional classroom learning procedure is flipped. Instead of a teacher informing a child about a subject and constructing a meaning for them, in constructivist learning, children construct their own meanings. Now, this may not be the best approach for every learning environment, but it can be tremendously helpful at home.\n",
    "\n",
    "The home environment is where children primarily develop a sense of self and is the perfect setting for children to practice taking initiative in their learning via a Constructivist approach."
   ]
  },
  {
   "cell_type": "code",
   "execution_count": null,
   "id": "81015412",
   "metadata": {},
   "outputs": [],
   "source": []
  },
  {
   "cell_type": "code",
   "execution_count": null,
   "id": "00d1139c",
   "metadata": {},
   "outputs": [],
   "source": []
  },
  {
   "cell_type": "raw",
   "id": "16306c0e",
   "metadata": {},
   "source": [
    "7. How do you tell the difference between anomaly and novelty detection?"
   ]
  },
  {
   "cell_type": "raw",
   "id": "3cdb7d48",
   "metadata": {},
   "source": [
    "ans:\n",
    "In \"novelty detection\", you have a data set that contains only good data, and you're trying to determine whether new observations fit within the existing data set. In \"outlier detection\", the data may contain outliers, which you want to identify."
   ]
  },
  {
   "cell_type": "code",
   "execution_count": null,
   "id": "c9580812",
   "metadata": {},
   "outputs": [],
   "source": []
  },
  {
   "cell_type": "code",
   "execution_count": null,
   "id": "36981143",
   "metadata": {},
   "outputs": [],
   "source": []
  },
  {
   "cell_type": "raw",
   "id": "4989fab9",
   "metadata": {},
   "source": [
    "8. What is a Gaussian mixture, and how does it work? What are some of the things you can do about\n",
    "it?"
   ]
  },
  {
   "cell_type": "raw",
   "id": "f70a4d76",
   "metadata": {},
   "source": [
    "ans:\n",
    "A Gaussian Mixture is a function that is comprised of several Gaussians, each identified by k ∈ {1,…, K}, where K is the number of clusters of our dataset. Each Gaussian k in the mixture is comprised of the following parameters: A mean μ that defines its centre. A covariance Σ that defines its width."
   ]
  },
  {
   "cell_type": "code",
   "execution_count": null,
   "id": "4050c42a",
   "metadata": {},
   "outputs": [],
   "source": []
  },
  {
   "cell_type": "code",
   "execution_count": null,
   "id": "8dda05b8",
   "metadata": {},
   "outputs": [],
   "source": []
  },
  {
   "cell_type": "raw",
   "id": "c5613bf0",
   "metadata": {},
   "source": [
    "9. When using a Gaussian mixture model, can you name two techniques for determining the correct\n",
    "number of clusters?"
   ]
  },
  {
   "cell_type": "raw",
   "id": "340b5af9",
   "metadata": {},
   "source": [
    "ans:\n",
    "An approach is to find the clusters using soft clustering methods and then see if they are gaussian. If they are then you can apply a GMM model which represents the whole dataset."
   ]
  },
  {
   "cell_type": "code",
   "execution_count": null,
   "id": "deb4a10c",
   "metadata": {},
   "outputs": [],
   "source": []
  }
 ],
 "metadata": {
  "kernelspec": {
   "display_name": "Python 3",
   "language": "python",
   "name": "python3"
  },
  "language_info": {
   "codemirror_mode": {
    "name": "ipython",
    "version": 3
   },
   "file_extension": ".py",
   "mimetype": "text/x-python",
   "name": "python",
   "nbconvert_exporter": "python",
   "pygments_lexer": "ipython3",
   "version": "3.8.8"
  }
 },
 "nbformat": 4,
 "nbformat_minor": 5
}
